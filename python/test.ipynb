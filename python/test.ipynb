{
 "cells": [
  {
   "cell_type": "markdown",
   "id": "3e91300a",
   "metadata": {},
   "source": [
    "Margins "
   ]
  },
  {
   "cell_type": "code",
   "execution_count": null,
   "id": "3f33ccac",
   "metadata": {},
   "outputs": [],
   "source": [
    "-13 / 4  # Division "
   ]
  },
  {
   "cell_type": "code",
   "execution_count": null,
   "id": "83e7cf41",
   "metadata": {},
   "outputs": [],
   "source": [
    "13 // 4 # Floor Division "
   ]
  },
  {
   "cell_type": "code",
   "execution_count": null,
   "id": "5e1d40e5",
   "metadata": {},
   "outputs": [],
   "source": [
    "-13 // 4        # -4 ... -3.24 .... -3  "
   ]
  },
  {
   "cell_type": "code",
   "execution_count": null,
   "id": "034bf5e0",
   "metadata": {},
   "outputs": [],
   "source": [
    "13 % 4  # Remainder Operator  \n",
    "#13 / 4 = 3 1/4  >> (1/4) >> 1 "
   ]
  },
  {
   "cell_type": "code",
   "execution_count": null,
   "id": "9e643d12",
   "metadata": {},
   "outputs": [],
   "source": [
    "4 / 2 "
   ]
  },
  {
   "cell_type": "code",
   "execution_count": null,
   "id": "d39f73dc",
   "metadata": {},
   "outputs": [],
   "source": [
    "4 % 2 "
   ]
  },
  {
   "cell_type": "code",
   "execution_count": null,
   "id": "b8e0d9ce",
   "metadata": {},
   "outputs": [],
   "source": [
    "\"He said 'See ya' and closed the door.\""
   ]
  },
  {
   "cell_type": "code",
   "execution_count": null,
   "id": "a4c8a798",
   "metadata": {},
   "outputs": [],
   "source": [
    "'He said \"She ya\" and closed the door.'"
   ]
  },
  {
   "cell_type": "code",
   "execution_count": null,
   "id": "74b48f0c",
   "metadata": {},
   "outputs": [],
   "source": [
    "# Escape char\n",
    "'He said \\'She ya\\' and closed the door.'"
   ]
  },
  {
   "cell_type": "code",
   "execution_count": null,
   "id": "4729141b",
   "metadata": {},
   "outputs": [],
   "source": [
    "'He said \\\\ : She ya'"
   ]
  },
  {
   "cell_type": "code",
   "execution_count": null,
   "id": "c666aa1e",
   "metadata": {},
   "outputs": [],
   "source": [
    "# Escape newline \n",
    "string=\"Welcome to datagy.\\nLearn Python and Data Science!\"\n",
    "print(string)\n",
    "print(\"Welcome to DevOps!\\nThis is python\")"
   ]
  },
  {
   "cell_type": "code",
   "execution_count": null,
   "id": "407f22bf",
   "metadata": {},
   "outputs": [],
   "source": [
    "# Triple-quoted : \"\"\"......\"\"\" , '''....'''\n",
    "t_q=\"\"\"This is Triple-quoted\n",
    "This is new Line \"\"\" \n",
    "print(t_q)"
   ]
  },
  {
   "cell_type": "code",
   "execution_count": null,
   "id": "81c420aa",
   "metadata": {},
   "outputs": [],
   "source": [
    "'''This is Triple-quoted\n",
    "This is new Line '''"
   ]
  },
  {
   "cell_type": "code",
   "execution_count": null,
   "id": "04ec6407",
   "metadata": {},
   "outputs": [],
   "source": [
    "# input function \n",
    "# input function returns string \n",
    "\n",
    "# TypeError: unsupported operand type(s) for -: 'int' and 'str'\n",
    "name = input('What is your name? ')\n",
    "yob = input('And what is your year of birth?')\n",
    "print(type(yob))    # <class 'str'>\n",
    "\n",
    "age = 2022 - yob\n",
    "\n",
    "print ('Hi',name,',you are ',age, 'years old')"
   ]
  },
  {
   "cell_type": "code",
   "execution_count": null,
   "id": "434a9d29",
   "metadata": {},
   "outputs": [],
   "source": [
    "name = input('What is your name? ')\n",
    "# Typecast: change variable type > string to int \n",
    "yob = int(input('And what is your year of birth?'))\n",
    "# or \n",
    "#yob: int(input(\"And what is your year of birth? \"))\n",
    "print(type(yob))\n",
    "\n",
    "age = 2022 - yob\n",
    "\n",
    "print ('Hi',name,',you are ',age, 'years old')\n",
    "print(type(yob))\n",
    "\n",
    "print(type(str(yob)))"
   ]
  },
  {
   "cell_type": "code",
   "execution_count": null,
   "id": "9b0572a7",
   "metadata": {},
   "outputs": [],
   "source": [
    "# In python : everything is an object \n",
    "# Dynamic Typing \n",
    "x = 13 \n",
    "print(type(x))\n",
    "x = -3 \n",
    "print(type(x))\n",
    "x = 3.33\n",
    "print(type(x))\n",
    "x = \"name\"\n",
    "print(type(x))\n",
    "\n",
    "# Manual Typing \n",
    "x: int=30\n",
    "print(type(x))"
   ]
  },
  {
   "cell_type": "code",
   "execution_count": null,
   "id": "266efec2",
   "metadata": {},
   "outputs": [],
   "source": [
    "# Show all variable attributes (methods) \n",
    "# dir()\n",
    "name = \"Omar\"\n",
    "print(dir(name))"
   ]
  },
  {
   "cell_type": "code",
   "execution_count": null,
   "id": "61e40e8d",
   "metadata": {},
   "outputs": [],
   "source": [
    "age = 24\n",
    "print(dir(age))"
   ]
  },
  {
   "cell_type": "code",
   "execution_count": null,
   "id": "3ea426d5",
   "metadata": {},
   "outputs": [],
   "source": [
    "# Sorting a List: Temporary or Permanent Sort  \n",
    "\n",
    "num_list = [3,2,6,4,9]\n",
    "print(sorted(num_list))     # Temporary Sort\n",
    "print(num_list)\n",
    "print(\"#\"*20)\n",
    "num_list.sort()     # Permanent Sort\n",
    "print(num_list)\n",
    "print(\"#\"*20)\n",
    "num_list.reverse()\n",
    "print(num_list)\n",
    "print(len(num_list))"
   ]
  }
 ],
 "metadata": {
  "kernelspec": {
   "display_name": "Python 3 (ipykernel)",
   "language": "python",
   "name": "python3"
  },
  "language_info": {
   "codemirror_mode": {
    "name": "ipython",
    "version": 3
   },
   "file_extension": ".py",
   "mimetype": "text/x-python",
   "name": "python",
   "nbconvert_exporter": "python",
   "pygments_lexer": "ipython3",
   "version": "3.10.8"
  },
  "vscode": {
   "interpreter": {
    "hash": "767d51c1340bd893661ea55ea3124f6de3c7a262a8b4abca0554b478b1e2ff90"
   }
  }
 },
 "nbformat": 4,
 "nbformat_minor": 5
}
